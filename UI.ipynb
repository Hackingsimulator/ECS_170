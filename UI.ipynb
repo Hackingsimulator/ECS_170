{
 "cells": [
  {
   "cell_type": "code",
   "execution_count": 1,
   "id": "15b06d5f",
   "metadata": {},
   "outputs": [],
   "source": [
    "import pandas as pd\n",
    "import numpy as np\n",
    "import gradio as gr\n",
    "from sklearn import svm\n",
    "from sklearn.neural_network import MLPClassifier\n",
    "from sklearn.preprocessing import MinMaxScaler\n",
    "from sklearn.model_selection import GridSearchCV\n",
    "from sklearn.model_selection import train_test_split\n",
    "from sklearn.tree import DecisionTreeClassifier\n",
    "from sklearn.metrics import accuracy_score\n",
    "from sklearn import metrics\n",
    "from sklearn.linear_model import LogisticRegression"
   ]
  },
  {
   "cell_type": "code",
   "execution_count": 2,
   "id": "b14d006d",
   "metadata": {},
   "outputs": [],
   "source": [
    "# Load the dataset\n",
    "dataset = pd.read_csv(\"C:/Users/muSyR/OneDrive/Desktop/UC Davis Assignments/SQ 23/ECS 171/Project/WA_Fn-UseC_-Telco-Customer-Churn.csv\")"
   ]
  },
  {
   "cell_type": "code",
   "execution_count": 3,
   "id": "bf4a7a0d",
   "metadata": {
    "scrolled": true
   },
   "outputs": [
    {
     "name": "stdout",
     "output_type": "stream",
     "text": [
      "      SeniorCitizen  Dependents  PhoneService  MultipleLines  InternetService  \\\n",
      "0                 0           0             0              0                1   \n",
      "1                 0           0             1              0                1   \n",
      "2                 0           0             1              0                1   \n",
      "3                 0           0             0              0                1   \n",
      "4                 0           0             1              0                2   \n",
      "...             ...         ...           ...            ...              ...   \n",
      "7038              0           1             1              1                1   \n",
      "7039              0           1             1              1                2   \n",
      "7040              0           1             0              0                1   \n",
      "7041              1           0             1              1                2   \n",
      "7042              0           0             1              0                2   \n",
      "\n",
      "      OnlineSecurity  OnlineBackup  DeviceProtection  TechSupport  \\\n",
      "0                  0             1                 0            0   \n",
      "1                  1             0                 1            0   \n",
      "2                  1             1                 0            0   \n",
      "3                  1             0                 1            1   \n",
      "4                  0             0                 0            0   \n",
      "...              ...           ...               ...          ...   \n",
      "7038               1             0                 1            1   \n",
      "7039               0             1                 1            0   \n",
      "7040               1             0                 0            0   \n",
      "7041               0             0                 0            0   \n",
      "7042               1             0                 1            1   \n",
      "\n",
      "      StreamingTV  StreamingMovies  Contract  PaymentMethod  MonthlyCharges  \\\n",
      "0               0                0         0              0           29.85   \n",
      "1               0                0         1              1           56.95   \n",
      "2               0                0         0              1           53.85   \n",
      "3               0                0         1              2           42.30   \n",
      "4               0                0         0              0           70.70   \n",
      "...           ...              ...       ...            ...             ...   \n",
      "7038            1                1         1              1           84.80   \n",
      "7039            1                1         1              3          103.20   \n",
      "7040            0                0         0              0           29.60   \n",
      "7041            0                0         0              1           74.40   \n",
      "7042            1                1         2              2          105.65   \n",
      "\n",
      "      TotalCharges  \n",
      "0            29.85  \n",
      "1          1889.50  \n",
      "2           108.15  \n",
      "3          1840.75  \n",
      "4           151.65  \n",
      "...            ...  \n",
      "7038       1990.50  \n",
      "7039       7362.90  \n",
      "7040        346.45  \n",
      "7041        306.60  \n",
      "7042       6844.50  \n",
      "\n",
      "[7032 rows x 15 columns]\n"
     ]
    }
   ],
   "source": [
    "# Map 'Churn' column\n",
    "dataset = dataset.dropna()\n",
    "mapping = {'Yes': 1, 'No': 0}\n",
    "dataset['Churn'] = dataset['Churn'].replace(mapping)\n",
    "\n",
    "\n",
    "y = dataset['Churn']\n",
    "# Clean dataset\n",
    "x = dataset.drop(['customerID', 'tenure', 'Partner', 'gender', 'PaperlessBilling', 'Churn'], axis = 1)\n",
    "\n",
    "# Classify the dataset-> turn string into classifier \n",
    "# Define mappings from category names to numbers\n",
    "mapping = {'Yes': 1, 'No': 0}\n",
    "x['Dependents'] = x['Dependents'].replace(mapping)\n",
    "x['PhoneService'] = x['PhoneService'].replace(mapping)\n",
    "\n",
    "mapping = {'Yes': 1, 'No': 0, 'No phone service' : 0}\n",
    "x['MultipleLines'] = x['MultipleLines'].replace(mapping)\n",
    "\n",
    "mapping = {'No': 0, 'DSL': 1, 'Fiber optic' : 2}\n",
    "x['InternetService'] = x['InternetService'].replace(mapping)\n",
    "\n",
    "mapping = {'Yes': 1, 'No': 0, 'No internet service' : 0}\n",
    "x['OnlineSecurity'] = x['OnlineSecurity'].replace(mapping)\n",
    "x['DeviceProtection'] = x['DeviceProtection'].replace(mapping)\n",
    "x['TechSupport'] = x['TechSupport'].replace(mapping)\n",
    "x['StreamingTV'] = x['StreamingTV'].replace(mapping)\n",
    "x['StreamingMovies'] = x['StreamingMovies'].replace(mapping)\n",
    "x['OnlineBackup'] = x['OnlineBackup'].replace(mapping)\n",
    "\n",
    "\n",
    "mapping = {'Electronic check': 0, 'Mailed check': 1, 'Bank transfer (automatic)' : 2, 'Credit card (automatic)' : 3}\n",
    "x['PaymentMethod'] = x['PaymentMethod'].replace(mapping)\n",
    "\n",
    "\n",
    "mapping = {'Month-to-month': 0, 'One year': 1, 'Two year' : 2}\n",
    "x['Contract'] = x['Contract'].replace(mapping)\n",
    "\n",
    "\n",
    "# Convert 'Total Charges' to numeric, and coerce errors to NaN\n",
    "x['TotalCharges'] = pd.to_numeric(x['TotalCharges'], errors='coerce')\n",
    "\n",
    "# Get indices of rows with NaN values in 'TotalCharges'\n",
    "nan_rows = x[x['TotalCharges'].isna()].index\n",
    "\n",
    "# Drop these rows from both `x` and `y`\n",
    "x = x.drop(nan_rows)\n",
    "y = y.drop(nan_rows)\n",
    "\n",
    "print(x)\n"
   ]
  },
  {
   "cell_type": "code",
   "execution_count": 4,
   "id": "1141ec97",
   "metadata": {},
   "outputs": [
    {
     "data": {
      "text/html": [
       "<style>#sk-container-id-1 {color: black;background-color: white;}#sk-container-id-1 pre{padding: 0;}#sk-container-id-1 div.sk-toggleable {background-color: white;}#sk-container-id-1 label.sk-toggleable__label {cursor: pointer;display: block;width: 100%;margin-bottom: 0;padding: 0.3em;box-sizing: border-box;text-align: center;}#sk-container-id-1 label.sk-toggleable__label-arrow:before {content: \"▸\";float: left;margin-right: 0.25em;color: #696969;}#sk-container-id-1 label.sk-toggleable__label-arrow:hover:before {color: black;}#sk-container-id-1 div.sk-estimator:hover label.sk-toggleable__label-arrow:before {color: black;}#sk-container-id-1 div.sk-toggleable__content {max-height: 0;max-width: 0;overflow: hidden;text-align: left;background-color: #f0f8ff;}#sk-container-id-1 div.sk-toggleable__content pre {margin: 0.2em;color: black;border-radius: 0.25em;background-color: #f0f8ff;}#sk-container-id-1 input.sk-toggleable__control:checked~div.sk-toggleable__content {max-height: 200px;max-width: 100%;overflow: auto;}#sk-container-id-1 input.sk-toggleable__control:checked~label.sk-toggleable__label-arrow:before {content: \"▾\";}#sk-container-id-1 div.sk-estimator input.sk-toggleable__control:checked~label.sk-toggleable__label {background-color: #d4ebff;}#sk-container-id-1 div.sk-label input.sk-toggleable__control:checked~label.sk-toggleable__label {background-color: #d4ebff;}#sk-container-id-1 input.sk-hidden--visually {border: 0;clip: rect(1px 1px 1px 1px);clip: rect(1px, 1px, 1px, 1px);height: 1px;margin: -1px;overflow: hidden;padding: 0;position: absolute;width: 1px;}#sk-container-id-1 div.sk-estimator {font-family: monospace;background-color: #f0f8ff;border: 1px dotted black;border-radius: 0.25em;box-sizing: border-box;margin-bottom: 0.5em;}#sk-container-id-1 div.sk-estimator:hover {background-color: #d4ebff;}#sk-container-id-1 div.sk-parallel-item::after {content: \"\";width: 100%;border-bottom: 1px solid gray;flex-grow: 1;}#sk-container-id-1 div.sk-label:hover label.sk-toggleable__label {background-color: #d4ebff;}#sk-container-id-1 div.sk-serial::before {content: \"\";position: absolute;border-left: 1px solid gray;box-sizing: border-box;top: 0;bottom: 0;left: 50%;z-index: 0;}#sk-container-id-1 div.sk-serial {display: flex;flex-direction: column;align-items: center;background-color: white;padding-right: 0.2em;padding-left: 0.2em;position: relative;}#sk-container-id-1 div.sk-item {position: relative;z-index: 1;}#sk-container-id-1 div.sk-parallel {display: flex;align-items: stretch;justify-content: center;background-color: white;position: relative;}#sk-container-id-1 div.sk-item::before, #sk-container-id-1 div.sk-parallel-item::before {content: \"\";position: absolute;border-left: 1px solid gray;box-sizing: border-box;top: 0;bottom: 0;left: 50%;z-index: -1;}#sk-container-id-1 div.sk-parallel-item {display: flex;flex-direction: column;z-index: 1;position: relative;background-color: white;}#sk-container-id-1 div.sk-parallel-item:first-child::after {align-self: flex-end;width: 50%;}#sk-container-id-1 div.sk-parallel-item:last-child::after {align-self: flex-start;width: 50%;}#sk-container-id-1 div.sk-parallel-item:only-child::after {width: 0;}#sk-container-id-1 div.sk-dashed-wrapped {border: 1px dashed gray;margin: 0 0.4em 0.5em 0.4em;box-sizing: border-box;padding-bottom: 0.4em;background-color: white;}#sk-container-id-1 div.sk-label label {font-family: monospace;font-weight: bold;display: inline-block;line-height: 1.2em;}#sk-container-id-1 div.sk-label-container {text-align: center;}#sk-container-id-1 div.sk-container {/* jupyter's `normalize.less` sets `[hidden] { display: none; }` but bootstrap.min.css set `[hidden] { display: none !important; }` so we also need the `!important` here to be able to override the default hidden behavior on the sphinx rendered scikit-learn.org. See: https://github.com/scikit-learn/scikit-learn/issues/21755 */display: inline-block !important;position: relative;}#sk-container-id-1 div.sk-text-repr-fallback {display: none;}</style><div id=\"sk-container-id-1\" class=\"sk-top-container\"><div class=\"sk-text-repr-fallback\"><pre>MLPClassifier(hidden_layer_sizes=(5, 7), learning_rate_init=0.15, max_iter=500)</pre><b>In a Jupyter environment, please rerun this cell to show the HTML representation or trust the notebook. <br />On GitHub, the HTML representation is unable to render, please try loading this page with nbviewer.org.</b></div><div class=\"sk-container\" hidden><div class=\"sk-item\"><div class=\"sk-estimator sk-toggleable\"><input class=\"sk-toggleable__control sk-hidden--visually\" id=\"sk-estimator-id-1\" type=\"checkbox\" checked><label for=\"sk-estimator-id-1\" class=\"sk-toggleable__label sk-toggleable__label-arrow\">MLPClassifier</label><div class=\"sk-toggleable__content\"><pre>MLPClassifier(hidden_layer_sizes=(5, 7), learning_rate_init=0.15, max_iter=500)</pre></div></div></div></div></div>"
      ],
      "text/plain": [
       "MLPClassifier(hidden_layer_sizes=(5, 7), learning_rate_init=0.15, max_iter=500)"
      ]
     },
     "execution_count": 4,
     "metadata": {},
     "output_type": "execute_result"
    }
   ],
   "source": [
    "scaler = MinMaxScaler(feature_range=(0, 1))\n",
    "X_rescaled = scaler.fit_transform(x)\n",
    "X = pd.DataFrame(data = X_rescaled, columns = x.columns)\n",
    "\n",
    "# You only need to do this if 'Churn' was originally a string. If it's already binary, you don't need to use get_dummies.\n",
    "# y = pd.get_dummies(y)\n",
    "\n",
    "# Splitting data into training and test set\n",
    "X_train, X_test, y_train, y_test = train_test_split(x, y, test_size=0.2, random_state=42)\n",
    "\n",
    "max_iterations = [500, 800, 1000]\n",
    "hidden_layer_sizes = [(5, 7), (7, 5), (7, 13), (13, 10), (14,10), (10,10), (15,10)]\n",
    "learning_rates = 0.15 * np.arange(1, 3)\n",
    "\n",
    "param_grid = dict(learning_rate_init=learning_rates, hidden_layer_sizes=hidden_layer_sizes, max_iter=max_iterations)\n",
    "\n",
    "mlp = MLPClassifier(solver='sgd', random_state=42, activation='logistic')\n",
    "\n",
    "grid = GridSearchCV(estimator=mlp, param_grid=param_grid, cv=3)  \n",
    "\n",
    "grid.fit(X_train, y_train)\n",
    "\n",
    "mlp_optimal = MLPClassifier(**grid.best_params_)\n",
    "mlp_optimal.fit(X_train, y_train)\n"
   ]
  },
  {
   "cell_type": "code",
   "execution_count": 5,
   "id": "96b8c397",
   "metadata": {},
   "outputs": [
    {
     "name": "stdout",
     "output_type": "stream",
     "text": [
      "Optimal Hyperparameters :  {'hidden_layer_sizes': (5, 7), 'learning_rate_init': 0.15, 'max_iter': 500}\n",
      "Optimal Accuracy:  0.7342150170648464\n"
     ]
    }
   ],
   "source": [
    "print(\"Optimal Hyperparameters : \", grid.best_params_)\n",
    "print(\"Optimal Accuracy: \", mlp_optimal.score(X, y))"
   ]
  },
  {
   "cell_type": "code",
   "execution_count": 6,
   "id": "6907137f",
   "metadata": {},
   "outputs": [
    {
     "name": "stdout",
     "output_type": "stream",
     "text": [
      "Accuracy: 0.7725657427149965\n"
     ]
    }
   ],
   "source": [
    "# Define the classifier\n",
    "clf = MLPClassifier(hidden_layer_sizes=(15, 10 , 6), max_iter=10000)\n",
    "\n",
    "# Train the classifier\n",
    "clf.fit(X_train, y_train)\n",
    "\n",
    "# Predict the labels of the test set\n",
    "y_pred = clf.predict(X_test)\n",
    "\n",
    "# Check the accuracy\n",
    "print(\"Accuracy:\", metrics.accuracy_score(y_test, y_pred))\n"
   ]
  },
  {
   "cell_type": "code",
   "execution_count": 7,
   "id": "e12693e7",
   "metadata": {},
   "outputs": [
    {
     "name": "stdout",
     "output_type": "stream",
     "text": [
      "Accuracy: 0.7825159914712153\n"
     ]
    }
   ],
   "source": [
    "# Create a Logistic Regression object\n",
    "logistic_regression = LogisticRegression(max_iter=10000)\n",
    "\n",
    "# Train the model using the training sets\n",
    "logistic_regression.fit(X_train,y_train)\n",
    "\n",
    "# Predict the response for test dataset\n",
    "y_pred = logistic_regression.predict(X_test)\n",
    "\n",
    "# Check the accuracy\n",
    "print(\"Accuracy:\", metrics.accuracy_score(y_test, y_pred))\n"
   ]
  },
  {
   "cell_type": "code",
   "execution_count": 8,
   "id": "6b7819bd",
   "metadata": {},
   "outputs": [
    {
     "data": {
      "image/png": "[encoded data removed]",
      "text/plain": [
       "<Figure size 1000x700 with 2 Axes>"
      ]
     },
     "metadata": {},
     "output_type": "display_data"
    }
   ],
   "source": [
    "from sklearn.metrics import confusion_matrix\n",
    "import seaborn as sns\n",
    "import matplotlib.pyplot as plt\n",
    "\n",
    "# Calculate the confusion matrix\n",
    "cm = confusion_matrix(y_test, y_pred)\n",
    "\n",
    "# Create a DataFrame from the confusion matrix\n",
    "cm_df = pd.DataFrame(cm, columns=['Predicted Negative', 'Predicted Positive'], \n",
    "                     index=['Actual Negative', 'Actual Positive'])\n",
    "\n",
    "# Visualize the confusion matrix using a heatmap\n",
    "plt.figure(figsize=(10,7))\n",
    "sns.heatmap(cm_df, annot=True, fmt='d', cmap='Blues')\n",
    "plt.title('Confusion Matrix')\n",
    "plt.show()\n"
   ]
  },
  {
   "cell_type": "code",
   "execution_count": 9,
   "id": "8b24f9c2",
   "metadata": {},
   "outputs": [
    {
     "name": "stdout",
     "output_type": "stream",
     "text": [
      "Accuracy: 0.7242359630419332\n"
     ]
    }
   ],
   "source": [
    "# Create Decision Tree classifer object\n",
    "clf = DecisionTreeClassifier()\n",
    "\n",
    "# Train Decision Tree Classifer\n",
    "clf = clf.fit(X_train,y_train)\n",
    "\n",
    "# Predict the response for test dataset\n",
    "y_pred = clf.predict(X_test)\n",
    "\n",
    "# Model Accuracy\n",
    "print(\"Accuracy:\",accuracy_score(y_test, y_pred))"
   ]
  },
  {
   "cell_type": "code",
   "execution_count": 10,
   "id": "e72db84c",
   "metadata": {},
   "outputs": [
    {
     "name": "stdout",
     "output_type": "stream",
     "text": [
      "Index(['SeniorCitizen', 'Dependents', 'PhoneService', 'MultipleLines',\n",
      "       'InternetService', 'OnlineSecurity', 'OnlineBackup', 'DeviceProtection',\n",
      "       'TechSupport', 'StreamingTV', 'StreamingMovies', 'Contract',\n",
      "       'PaymentMethod', 'MonthlyCharges', 'TotalCharges'],\n",
      "      dtype='object')\n"
     ]
    }
   ],
   "source": [
    "print(x.columns)"
   ]
  },
  {
   "cell_type": "code",
   "execution_count": 11,
   "id": "cb4b12d0",
   "metadata": {},
   "outputs": [],
   "source": [
    "def churn(SeniorCitizen, Dependents, PhoneService, MultipleLines, InternetService, OnlineSecurity, OnlineBackup, \n",
    "          DeviceProtection, TechSupport, StreamingTV, StreamingMovies, Contract, PaymentMethod, \n",
    "          MonthlyCharges, TotalCharges):\n",
    "    \n",
    "    x = np.array([SeniorCitizen, Dependents, PhoneService, MultipleLines, InternetService, OnlineSecurity, \n",
    "                OnlineBackup, DeviceProtection, TechSupport, StreamingTV, StreamingMovies, Contract, PaymentMethod, \n",
    "                MonthlyCharges, TotalCharges])\n",
    "    \n",
    "    prediction = logistic_regression.predict(x.reshape(1, -1))\n",
    "    \n",
    "    return prediction"
   ]
  },
  {
   "cell_type": "code",
   "execution_count": 12,
   "id": "c2a80cd3",
   "metadata": {},
   "outputs": [
    {
     "name": "stderr",
     "output_type": "stream",
     "text": [
      "C:\\Users\\muSyR\\AppData\\Roaming\\Python\\Python310\\site-packages\\gradio\\outputs.py:22: UserWarning: Usage of gradio.outputs is deprecated, and will not be supported in the future, please import your components from gradio.components\n",
      "  warnings.warn(\n"
     ]
    }
   ],
   "source": [
    "output = gr.outputs.Textbox()\n",
    "\n",
    "app = gr.Interface(fn = churn, inputs = \n",
    "                   ['checkbox', \n",
    "                    'checkbox',\n",
    "                    'checkbox', \n",
    "                    'checkbox',\n",
    "                    gr.Radio([0, 1, 2], info = \"0: No  |  1: DSL  |  2: Fiber Optic\"),\n",
    "                    'checkbox',\n",
    "                    'checkbox',\n",
    "                    'checkbox',\n",
    "                    'checkbox',\n",
    "                    'checkbox',\n",
    "                    'checkbox',\n",
    "                    gr.Radio([0, 1, 2], info = \"0: Month-to-month  |  1: One year  |  2: Two year\"),\n",
    "                    gr.Radio([0, 1, 2, 3], info = \"0: Electronic check  |  1: Mailed check  |  2: Bank transfer (automatic)  |  3: Credit card (automatic)\"),\n",
    "                    'number',\n",
    "                    'number'], \n",
    "                   outputs = output, description = \"Churn Model (1 = They are going to leave the subscription service by next month, 0 = They are going to stay)\")"
   ]
  },
  {
   "cell_type": "code",
   "execution_count": 13,
   "id": "3d56dd41",
   "metadata": {},
   "outputs": [
    {
     "name": "stdout",
     "output_type": "stream",
     "text": [
      "Running on local URL:  http://127.0.0.1:7860\n",
      "\n",
      "To create a public link, set `share=True` in `launch()`.\n"
     ]
    },
    {
     "data": {
      "text/html": [
       "<div><iframe src=\"http://127.0.0.1:7860/\" width=\"100%\" height=\"500\" allow=\"autoplay; camera; microphone; clipboard-read; clipboard-write;\" frameborder=\"0\" allowfullscreen></iframe></div>"
      ],
      "text/plain": [
       "<IPython.core.display.HTML object>"
      ]
     },
     "metadata": {},
     "output_type": "display_data"
    },
    {
     "data": {
      "text/plain": []
     },
     "execution_count": 13,
     "metadata": {},
     "output_type": "execute_result"
    },
    {
     "name": "stderr",
     "output_type": "stream",
     "text": [
      "C:\\ProgramData\\anaconda3\\lib\\site-packages\\sklearn\\base.py:420: UserWarning: X does not have valid feature names, but LogisticRegression was fitted with feature names\n",
      "  warnings.warn(\n",
      "C:\\ProgramData\\anaconda3\\lib\\site-packages\\sklearn\\base.py:420: UserWarning: X does not have valid feature names, but LogisticRegression was fitted with feature names\n",
      "  warnings.warn(\n",
      "C:\\ProgramData\\anaconda3\\lib\\site-packages\\sklearn\\base.py:420: UserWarning: X does not have valid feature names, but LogisticRegression was fitted with feature names\n",
      "  warnings.warn(\n",
      "C:\\ProgramData\\anaconda3\\lib\\site-packages\\sklearn\\base.py:420: UserWarning: X does not have valid feature names, but LogisticRegression was fitted with feature names\n",
      "  warnings.warn(\n"
     ]
    }
   ],
   "source": [
    "app.launch()"
   ]
  }
 ],
 "metadata": {
  "kernelspec": {
   "display_name": "Python 3 (ipykernel)",
   "language": "python",
   "name": "python3"
  },
  "language_info": {
   "codemirror_mode": {
    "name": "ipython",
    "version": 3
   },
   "file_extension": ".py",
   "mimetype": "text/x-python",
   "name": "python",
   "nbconvert_exporter": "python",
   "pygments_lexer": "ipython3",
   "version": "3.10.9"
  }
 },
 "nbformat": 4,
 "nbformat_minor": 5
}
